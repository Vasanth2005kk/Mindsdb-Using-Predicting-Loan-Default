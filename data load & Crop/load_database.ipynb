{
 "cells": [
  {
   "cell_type": "code",
   "execution_count": 10,
   "metadata": {},
   "outputs": [],
   "source": [
    "import pandas as pd\n",
    "from sqlalchemy import create_engine, text"
   ]
  },
  {
   "cell_type": "code",
   "execution_count": 12,
   "metadata": {},
   "outputs": [],
   "source": [
    "# MySQL connection configuration\n",
    "username = \"mindsdb\"                  # Your MySQL username\n",
    "password = \"mindsdb\"                  # Your MySQL password\n",
    "host = \"192.168.1.19\"                 # Your MySQL host\n",
    "port = 3306                        # Your MySQL port\n",
    "database = \"loan\"                  # Your target database\n",
    "table_name = \"loan_default\"     # Your target table"
   ]
  },
  {
   "cell_type": "code",
   "execution_count": 13,
   "metadata": {},
   "outputs": [
    {
     "data": {
      "text/html": [
       "<div>\n",
       "<style scoped>\n",
       "    .dataframe tbody tr th:only-of-type {\n",
       "        vertical-align: middle;\n",
       "    }\n",
       "\n",
       "    .dataframe tbody tr th {\n",
       "        vertical-align: top;\n",
       "    }\n",
       "\n",
       "    .dataframe thead th {\n",
       "        text-align: right;\n",
       "    }\n",
       "</style>\n",
       "<table border=\"1\" class=\"dataframe\">\n",
       "  <thead>\n",
       "    <tr style=\"text-align: right;\">\n",
       "      <th></th>\n",
       "      <th>ID</th>\n",
       "      <th>year</th>\n",
       "      <th>loan_limit</th>\n",
       "      <th>Gender</th>\n",
       "      <th>approv_in_adv</th>\n",
       "      <th>loan_type</th>\n",
       "      <th>loan_purpose</th>\n",
       "      <th>Credit_Worthiness</th>\n",
       "      <th>open_credit</th>\n",
       "      <th>business_or_commercial</th>\n",
       "      <th>...</th>\n",
       "      <th>credit_type</th>\n",
       "      <th>Credit_Score</th>\n",
       "      <th>co-applicant_credit_type</th>\n",
       "      <th>age</th>\n",
       "      <th>submission_of_application</th>\n",
       "      <th>LTV</th>\n",
       "      <th>Region</th>\n",
       "      <th>Security_Type</th>\n",
       "      <th>Status</th>\n",
       "      <th>dtir1</th>\n",
       "    </tr>\n",
       "  </thead>\n",
       "  <tbody>\n",
       "    <tr>\n",
       "      <th>0</th>\n",
       "      <td>29890</td>\n",
       "      <td>2019</td>\n",
       "      <td>cf</td>\n",
       "      <td>Joint</td>\n",
       "      <td>nopre</td>\n",
       "      <td>type1</td>\n",
       "      <td>p3</td>\n",
       "      <td>l1</td>\n",
       "      <td>nopc</td>\n",
       "      <td>nob/c</td>\n",
       "      <td>...</td>\n",
       "      <td>EXP</td>\n",
       "      <td>784</td>\n",
       "      <td>EXP</td>\n",
       "      <td>45-54</td>\n",
       "      <td>to_inst</td>\n",
       "      <td>56.002825</td>\n",
       "      <td>central</td>\n",
       "      <td>direct</td>\n",
       "      <td>0</td>\n",
       "      <td>29.0</td>\n",
       "    </tr>\n",
       "    <tr>\n",
       "      <th>1</th>\n",
       "      <td>29891</td>\n",
       "      <td>2019</td>\n",
       "      <td>cf</td>\n",
       "      <td>Sex Not Available</td>\n",
       "      <td>nopre</td>\n",
       "      <td>type1</td>\n",
       "      <td>p1</td>\n",
       "      <td>l1</td>\n",
       "      <td>nopc</td>\n",
       "      <td>nob/c</td>\n",
       "      <td>...</td>\n",
       "      <td>CIB</td>\n",
       "      <td>604</td>\n",
       "      <td>CIB</td>\n",
       "      <td>45-54</td>\n",
       "      <td>to_inst</td>\n",
       "      <td>60.198135</td>\n",
       "      <td>south</td>\n",
       "      <td>direct</td>\n",
       "      <td>0</td>\n",
       "      <td>32.0</td>\n",
       "    </tr>\n",
       "    <tr>\n",
       "      <th>2</th>\n",
       "      <td>29892</td>\n",
       "      <td>2019</td>\n",
       "      <td>cf</td>\n",
       "      <td>Male</td>\n",
       "      <td>nopre</td>\n",
       "      <td>type1</td>\n",
       "      <td>p2</td>\n",
       "      <td>l1</td>\n",
       "      <td>nopc</td>\n",
       "      <td>nob/c</td>\n",
       "      <td>...</td>\n",
       "      <td>CIB</td>\n",
       "      <td>881</td>\n",
       "      <td>EXP</td>\n",
       "      <td>55-64</td>\n",
       "      <td>to_inst</td>\n",
       "      <td>57.275132</td>\n",
       "      <td>south</td>\n",
       "      <td>direct</td>\n",
       "      <td>1</td>\n",
       "      <td>40.0</td>\n",
       "    </tr>\n",
       "    <tr>\n",
       "      <th>3</th>\n",
       "      <td>29893</td>\n",
       "      <td>2019</td>\n",
       "      <td>cf</td>\n",
       "      <td>Sex Not Available</td>\n",
       "      <td>nopre</td>\n",
       "      <td>type1</td>\n",
       "      <td>p1</td>\n",
       "      <td>l1</td>\n",
       "      <td>nopc</td>\n",
       "      <td>nob/c</td>\n",
       "      <td>...</td>\n",
       "      <td>EXP</td>\n",
       "      <td>563</td>\n",
       "      <td>CIB</td>\n",
       "      <td>25-34</td>\n",
       "      <td>to_inst</td>\n",
       "      <td>93.639053</td>\n",
       "      <td>south</td>\n",
       "      <td>direct</td>\n",
       "      <td>0</td>\n",
       "      <td>46.0</td>\n",
       "    </tr>\n",
       "    <tr>\n",
       "      <th>4</th>\n",
       "      <td>29894</td>\n",
       "      <td>2019</td>\n",
       "      <td>cf</td>\n",
       "      <td>Joint</td>\n",
       "      <td>nopre</td>\n",
       "      <td>type1</td>\n",
       "      <td>p3</td>\n",
       "      <td>l1</td>\n",
       "      <td>nopc</td>\n",
       "      <td>nob/c</td>\n",
       "      <td>...</td>\n",
       "      <td>EXP</td>\n",
       "      <td>510</td>\n",
       "      <td>EXP</td>\n",
       "      <td>35-44</td>\n",
       "      <td>not_inst</td>\n",
       "      <td>70.529197</td>\n",
       "      <td>North</td>\n",
       "      <td>direct</td>\n",
       "      <td>0</td>\n",
       "      <td>26.0</td>\n",
       "    </tr>\n",
       "  </tbody>\n",
       "</table>\n",
       "<p>5 rows × 34 columns</p>\n",
       "</div>"
      ],
      "text/plain": [
       "      ID  year loan_limit             Gender approv_in_adv loan_type  \\\n",
       "0  29890  2019         cf              Joint         nopre     type1   \n",
       "1  29891  2019         cf  Sex Not Available         nopre     type1   \n",
       "2  29892  2019         cf               Male         nopre     type1   \n",
       "3  29893  2019         cf  Sex Not Available         nopre     type1   \n",
       "4  29894  2019         cf              Joint         nopre     type1   \n",
       "\n",
       "  loan_purpose Credit_Worthiness open_credit business_or_commercial  ...  \\\n",
       "0           p3                l1        nopc                  nob/c  ...   \n",
       "1           p1                l1        nopc                  nob/c  ...   \n",
       "2           p2                l1        nopc                  nob/c  ...   \n",
       "3           p1                l1        nopc                  nob/c  ...   \n",
       "4           p3                l1        nopc                  nob/c  ...   \n",
       "\n",
       "   credit_type  Credit_Score  co-applicant_credit_type    age  \\\n",
       "0          EXP           784                       EXP  45-54   \n",
       "1          CIB           604                       CIB  45-54   \n",
       "2          CIB           881                       EXP  55-64   \n",
       "3          EXP           563                       CIB  25-34   \n",
       "4          EXP           510                       EXP  35-44   \n",
       "\n",
       "   submission_of_application        LTV   Region Security_Type  Status dtir1  \n",
       "0                    to_inst  56.002825  central        direct       0  29.0  \n",
       "1                    to_inst  60.198135    south        direct       0  32.0  \n",
       "2                    to_inst  57.275132    south        direct       1  40.0  \n",
       "3                    to_inst  93.639053    south        direct       0  46.0  \n",
       "4                   not_inst  70.529197    North        direct       0  26.0  \n",
       "\n",
       "[5 rows x 34 columns]"
      ]
     },
     "execution_count": 13,
     "metadata": {},
     "output_type": "execute_result"
    }
   ],
   "source": [
    "# Load CSV file into a pandas DataFrame\n",
    "csv_file = \"/home/vglug/Desktop/Mindsdb-Using-Predicting-Loan-Default/data load & Crop/Loan_Default.csv\"\n",
    "df = pd.read_csv(csv_file)\n",
    "df.head()"
   ]
  },
  {
   "cell_type": "code",
   "execution_count": 14,
   "metadata": {},
   "outputs": [
    {
     "data": {
      "text/plain": [
       "(143670, 34)"
      ]
     },
     "execution_count": 14,
     "metadata": {},
     "output_type": "execute_result"
    }
   ],
   "source": [
    "df.shape"
   ]
  },
  {
   "cell_type": "code",
   "execution_count": 15,
   "metadata": {},
   "outputs": [],
   "source": [
    " # Connect to MySQL server (without specifying a database)\n",
    "engine = create_engine(f\"mysql+mysqlconnector://{username}:{password}@{host}:{port}\")"
   ]
  },
  {
   "cell_type": "code",
   "execution_count": 11,
   "metadata": {},
   "outputs": [
    {
     "name": "stdout",
     "output_type": "stream",
     "text": [
      "Database 'loan' created successfully!\n"
     ]
    }
   ],
   "source": [
    "# Create the database\n",
    "with engine.connect() as connection:\n",
    "    connection.execute(text(f\"CREATE DATABASE {database};\"))\n",
    "    print(f\"Database '{database}' created successfully!\")\n"
   ]
  },
  {
   "cell_type": "code",
   "execution_count": 16,
   "metadata": {},
   "outputs": [
    {
     "name": "stdout",
     "output_type": "stream",
     "text": [
      "Available Databases:\n",
      "- child_details\n",
      "- information_schema\n",
      "- loan\n",
      "- mysql\n",
      "- performance_schema\n",
      "- sys\n",
      "- vasanth\n"
     ]
    }
   ],
   "source": [
    "# Fetch all databases\n",
    "with engine.connect() as connection:\n",
    "    result = connection.execute(text(\"SHOW DATABASES\"))\n",
    "    print(\"Available Databases:\")\n",
    "    for db in result:\n",
    "        print(f\"- {db[0]}\")"
   ]
  },
  {
   "cell_type": "code",
   "execution_count": 17,
   "metadata": {},
   "outputs": [],
   "source": [
    "\n",
    "# Create SQLAlchemy engine\n",
    "# mysql+mysqlconnector://<username>:<password>@<host>:<port>/<database>\n",
    "engine = create_engine(f\"mysql+mysqlconnector://{username}:{password}@{host}:{port}/{database}\")\n"
   ]
  },
  {
   "cell_type": "code",
   "execution_count": 18,
   "metadata": {},
   "outputs": [
    {
     "name": "stdout",
     "output_type": "stream",
     "text": [
      "Data successfully loaded into loan_default\n"
     ]
    }
   ],
   "source": [
    "df.to_sql(name=table_name, con=engine, if_exists='replace', index=False)\n",
    "# if_exists: Behavior if the table already exists (append, replace, or fail).\n",
    "# index: Whether to include the DataFrame index as a column in the table.\n",
    "\n",
    "print(f\"Data successfully loaded into {table_name}\")\n",
    "# engine.dispose()"
   ]
  },
  {
   "cell_type": "code",
   "execution_count": null,
   "metadata": {},
   "outputs": [],
   "source": []
  }
 ],
 "metadata": {
  "kernelspec": {
   "display_name": "Python 3 (ipykernel)",
   "language": "python",
   "name": "python3"
  }
 },
 "nbformat": 4,
 "nbformat_minor": 4
}
